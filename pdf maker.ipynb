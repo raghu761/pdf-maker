{
 "cells": [
  {
   "cell_type": "code",
   "execution_count": 6,
   "metadata": {},
   "outputs": [],
   "source": [
    "import os"
   ]
  },
  {
   "cell_type": "code",
   "execution_count": 8,
   "metadata": {},
   "outputs": [],
   "source": [
    "temp=os.listdir()\n",
    "os.chdir(\"image_file_name\")"
   ]
  },
  {
   "cell_type": "code",
   "execution_count": 11,
   "metadata": {},
   "outputs": [
    {
     "data": {
      "text/plain": [
       "['Screenshot from 2020-07-06 20-57-15.png',\n",
       " 'Screenshot from 2020-04-09 11-49-20.png',\n",
       " 'Screenshot from 2020-04-09 11-18-45.png',\n",
       " 'Screenshot from 2020-04-04 18-01-29.png',\n",
       " 'Screenshot from 2020-04-09 11-17-28.png',\n",
       " 'Screenshot from 2020-04-08 12-24-07.png',\n",
       " 'Screenshot from 2020-04-07 12-13-40.png',\n",
       " 'Screenshot from 2020-07-05 10-57-06.png',\n",
       " 'Screenshot from 2020-06-02 18-34-40.png',\n",
       " 'Screenshot from 2020-04-09 11-05-41.png',\n",
       " 'Screenshot from 2020-04-07 12-16-22.png',\n",
       " 'Screenshot from 2020-04-02 12-08-53.png',\n",
       " 'Screenshot from 2020-06-30 12-34-53.png',\n",
       " 'Screenshot from 2020-04-09 11-37-55.png',\n",
       " 'Screenshot from 2020-05-07 12-17-33.png',\n",
       " 'Screenshot from 2020-04-09 11-23-30.png',\n",
       " 'Screenshot from 2020-07-09 14-51-53.png',\n",
       " 'Screenshot from 2020-06-30 16-40-01.png',\n",
       " 'Screenshot from 2020-04-05 16-51-29.png',\n",
       " 'Screenshot from 2020-03-31 11-30-33.png',\n",
       " 'Screenshot from 2020-06-24 12-20-20.png',\n",
       " 'Screenshot from 2020-04-09 11-18-12.png',\n",
       " 'Screenshot from 2020-04-04 14-38-48.png',\n",
       " 'Screenshot from 2020-04-25 22-57-46.png',\n",
       " 'Screenshot from 2020-07-05 10-57-13.png',\n",
       " 'Screenshot from 2020-04-08 14-41-26.png',\n",
       " 'yourfile.pdf',\n",
       " 'Screenshot from 2020-07-03 19-18-10.png',\n",
       " 'Screenshot from 2020-06-24 12-47-11.png',\n",
       " 'Screenshot from 2020-06-23 08-40-13.png',\n",
       " 'Screenshot from 2020-04-11 11-32-23.png',\n",
       " 'Screenshot from 2020-04-09 11-19-42.png',\n",
       " 'Screenshot from 2020-04-09 14-52-18.png',\n",
       " 'Screenshot from 2020-06-25 12-17-31.png',\n",
       " 'Screenshot from 2020-04-01 11-58-20.png',\n",
       " 'Screenshot from 2020-07-08 12-34-28.png',\n",
       " 'Screenshot from 2020-06-04 15-26-48.png',\n",
       " 'Screenshot from 2020-04-09 11-17-23.png',\n",
       " 'Screenshot from 2020-06-24 12-17-48.png',\n",
       " 'Screenshot from 2020-04-09 11-23-35.png',\n",
       " 'Screenshot from 2020-06-24 12-52-08.png',\n",
       " 'Screenshot from 2020-04-09 11-23-50.png',\n",
       " 'Screenshot from 2020-04-07 12-13-45.png',\n",
       " 'Screenshot from 2020-04-02 12-05-45.png',\n",
       " 'Screenshot from 2020-04-06 20-09-16.png',\n",
       " 'Screenshot from 2020-07-05 10-57-18.png',\n",
       " 'Screenshot from 2020-04-01 14-26-41.png',\n",
       " 'Screenshot from 2020-03-31 16-11-00.png',\n",
       " 'Screenshot from 2020-04-02 15-22-55.png',\n",
       " 'Screenshot from 2020-04-09 12-07-14.png',\n",
       " 'Screenshot from 2020-03-31 12-16-50.png',\n",
       " 'Screenshot from 2020-04-04 18-30-56.png',\n",
       " 'Screenshot from 2020-04-04 18-01-14.png',\n",
       " 'Screenshot from 2020-06-24 13-01-40.png',\n",
       " 'Screenshot from 2020-04-04 10-28-02.png',\n",
       " 'Screenshot from 2020-06-24 12-15-28.png',\n",
       " 'Screenshot from 2020-04-04 10-28-07.png',\n",
       " 'Screenshot from 2020-04-11 21-51-49.png',\n",
       " 'Screenshot from 2020-06-15 20-00-10.png',\n",
       " 'Screenshot from 2020-07-06 17-10-25.png']"
      ]
     },
     "execution_count": 11,
     "metadata": {},
     "output_type": "execute_result"
    }
   ],
   "source": [
    "image_arr=os.listdir()\n",
    "image_arr"
   ]
  },
  {
   "cell_type": "code",
   "execution_count": 18,
   "metadata": {},
   "outputs": [
    {
     "data": {
      "text/plain": [
       "''"
      ]
     },
     "execution_count": 18,
     "metadata": {},
     "output_type": "execute_result"
    }
   ],
   "source": [
    "from fpdf import FPDF\n",
    "pdf = FPDF()\n",
    "cnt=0\n",
    "# imagelist is the list with all image filenames\n",
    "for image in image_arr:\n",
    "    if cnt==2:\n",
    "        break\n",
    "    cnt=cnt+1\n",
    "    pdf.add_page()\n",
    "    pdf.image(image,10,10,180,270)\n",
    "pdf.output(\"yourfile.pdf\", \"F\")"
   ]
  },
  {
   "cell_type": "code",
   "execution_count": null,
   "metadata": {},
   "outputs": [],
   "source": []
  }
 ],
 "metadata": {
  "kernelspec": {
   "display_name": "Python 3",
   "language": "python",
   "name": "python3"
  },
  "language_info": {
   "codemirror_mode": {
    "name": "ipython",
    "version": 3
   },
   "file_extension": ".py",
   "mimetype": "text/x-python",
   "name": "python",
   "nbconvert_exporter": "python",
   "pygments_lexer": "ipython3",
   "version": "3.7.6"
  }
 },
 "nbformat": 4,
 "nbformat_minor": 4
}
